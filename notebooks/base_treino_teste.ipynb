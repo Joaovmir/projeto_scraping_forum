{
 "cells": [
  {
   "cell_type": "code",
   "execution_count": 1,
   "metadata": {},
   "outputs": [],
   "source": [
    "import pandas as pd"
   ]
  },
  {
   "cell_type": "code",
   "execution_count": 2,
   "metadata": {},
   "outputs": [],
   "source": [
    "data_science = pd.read_csv('../dados/Data Science com textos.csv')\n",
    "devops = pd.read_csv('../dados/DevOps com textos.csv')\n",
    "front_end = pd.read_csv('../dados/Front-end com textos.csv')\n",
    "inovacao = pd.read_csv('../dados/Inovação e Gestão com textos.csv')\n",
    "mobile = pd.read_csv('../dados/Mobile com textos.csv')\n",
    "programacao = pd.read_csv('../dados/Programação com textos.csv')\n",
    "ux_design = pd.read_csv('../dados/UX & Design com textos.csv')\n",
    "\n",
    "data_science['Categoria'] = 'Data Science'\n",
    "devops['Categoria'] = 'DevOps'\n",
    "front_end['Categoria'] = 'Front-End'\n",
    "inovacao['Categoria'] = 'Inovação & Gestão'\n",
    "mobile['Categoria'] = 'Mobile'\n",
    "programacao['Categoria'] = 'Programação'\n",
    "ux_design['Categoria'] = 'UX & Design'\n"
   ]
  },
  {
   "cell_type": "code",
   "execution_count": 36,
   "metadata": {},
   "outputs": [],
   "source": [
    "dados_treino = data_science[0:4000][['texto', 'Categoria']]\n",
    "dados_teste = data_science[4000:][['texto', 'Categoria']]"
   ]
  },
  {
   "cell_type": "code",
   "execution_count": 37,
   "metadata": {},
   "outputs": [],
   "source": [
    "dados_treino = pd.concat([dados_treino,\n",
    "           devops[0:4000][['texto', 'Categoria']],\n",
    "           front_end[0:4000][['texto', 'Categoria']],\n",
    "           inovacao[0:4000][['texto', 'Categoria']],\n",
    "           mobile[0:4000][['texto', 'Categoria']],\n",
    "           programacao[0:4000][['texto', 'Categoria']],\n",
    "           ux_design[0:4000][['texto', 'Categoria']]],\n",
    "           ignore_index = True)"
   ]
  },
  {
   "cell_type": "code",
   "execution_count": 38,
   "metadata": {},
   "outputs": [],
   "source": [
    "dados_teste = pd.concat([dados_teste,\n",
    "           devops[4000:][['texto', 'Categoria']],\n",
    "           front_end[4000:][['texto', 'Categoria']],\n",
    "           inovacao[4000:][['texto', 'Categoria']],\n",
    "           mobile[4000:][['texto', 'Categoria']],\n",
    "           programacao[4000:][['texto', 'Categoria']],\n",
    "           ux_design[4000:][['texto', 'Categoria']]],\n",
    "           ignore_index = True)"
   ]
  },
  {
   "cell_type": "code",
   "execution_count": 41,
   "metadata": {},
   "outputs": [],
   "source": [
    "dados_treino.to_csv('../dados/dados_treino.csv', index = False)\n",
    "dados_teste.to_csv('../dados/dados_teste.csv', index = False)"
   ]
  },
  {
   "cell_type": "code",
   "execution_count": 42,
   "metadata": {},
   "outputs": [
    {
     "data": {
      "text/html": [
       "<div>\n",
       "<style scoped>\n",
       "    .dataframe tbody tr th:only-of-type {\n",
       "        vertical-align: middle;\n",
       "    }\n",
       "\n",
       "    .dataframe tbody tr th {\n",
       "        vertical-align: top;\n",
       "    }\n",
       "\n",
       "    .dataframe thead th {\n",
       "        text-align: right;\n",
       "    }\n",
       "</style>\n",
       "<table border=\"1\" class=\"dataframe\">\n",
       "  <thead>\n",
       "    <tr style=\"text-align: right;\">\n",
       "      <th></th>\n",
       "      <th>texto</th>\n",
       "      <th>Categoria</th>\n",
       "    </tr>\n",
       "  </thead>\n",
       "  <tbody>\n",
       "    <tr>\n",
       "      <th>0</th>\n",
       "      <td>Olá, gostaria de saber, se existe uma forma de...</td>\n",
       "      <td>Data Science</td>\n",
       "    </tr>\n",
       "    <tr>\n",
       "      <th>1</th>\n",
       "      <td>Dentro da pasta Banco de Dados existem outros ...</td>\n",
       "      <td>Data Science</td>\n",
       "    </tr>\n",
       "    <tr>\n",
       "      <th>2</th>\n",
       "      <td>Fala galera, tudo bem?\\nAssistindo os vídeos a...</td>\n",
       "      <td>Data Science</td>\n",
       "    </tr>\n",
       "    <tr>\n",
       "      <th>3</th>\n",
       "      <td>Como fazer para ordenar as médias dos filmes p...</td>\n",
       "      <td>Data Science</td>\n",
       "    </tr>\n",
       "    <tr>\n",
       "      <th>4</th>\n",
       "      <td>notas = pd.read_csv(\"ratings.csv\")Fiz o upload...</td>\n",
       "      <td>Data Science</td>\n",
       "    </tr>\n",
       "    <tr>\n",
       "      <th>...</th>\n",
       "      <td>...</td>\n",
       "      <td>...</td>\n",
       "    </tr>\n",
       "    <tr>\n",
       "      <th>27995</th>\n",
       "      <td>Olá, tudo bem?\\r\\nExistem algumas dúvidas que ...</td>\n",
       "      <td>UX &amp; Design</td>\n",
       "    </tr>\n",
       "    <tr>\n",
       "      <th>27996</th>\n",
       "      <td>Sound Design: sons que contribuam com a experi...</td>\n",
       "      <td>UX &amp; Design</td>\n",
       "    </tr>\n",
       "    <tr>\n",
       "      <th>27997</th>\n",
       "      <td>Quando pensamos no usuário devemos sempre nos ...</td>\n",
       "      <td>UX &amp; Design</td>\n",
       "    </tr>\n",
       "    <tr>\n",
       "      <th>27998</th>\n",
       "      <td>Alguém sabe se podemos trabalhar na descrição ...</td>\n",
       "      <td>UX &amp; Design</td>\n",
       "    </tr>\n",
       "    <tr>\n",
       "      <th>27999</th>\n",
       "      <td>Alguém sabe quais seriam as características qu...</td>\n",
       "      <td>UX &amp; Design</td>\n",
       "    </tr>\n",
       "  </tbody>\n",
       "</table>\n",
       "<p>28000 rows × 2 columns</p>\n",
       "</div>"
      ],
      "text/plain": [
       "                                                   texto     Categoria\n",
       "0      Olá, gostaria de saber, se existe uma forma de...  Data Science\n",
       "1      Dentro da pasta Banco de Dados existem outros ...  Data Science\n",
       "2      Fala galera, tudo bem?\\nAssistindo os vídeos a...  Data Science\n",
       "3      Como fazer para ordenar as médias dos filmes p...  Data Science\n",
       "4      notas = pd.read_csv(\"ratings.csv\")Fiz o upload...  Data Science\n",
       "...                                                  ...           ...\n",
       "27995  Olá, tudo bem?\\r\\nExistem algumas dúvidas que ...   UX & Design\n",
       "27996  Sound Design: sons que contribuam com a experi...   UX & Design\n",
       "27997  Quando pensamos no usuário devemos sempre nos ...   UX & Design\n",
       "27998  Alguém sabe se podemos trabalhar na descrição ...   UX & Design\n",
       "27999  Alguém sabe quais seriam as características qu...   UX & Design\n",
       "\n",
       "[28000 rows x 2 columns]"
      ]
     },
     "execution_count": 42,
     "metadata": {},
     "output_type": "execute_result"
    }
   ],
   "source": [
    "dados_treino"
   ]
  }
 ],
 "metadata": {
  "interpreter": {
   "hash": "183bbf6827d058c2a2fb0f4acdc0420849dda2b4380af0e437e38c64d798d8b7"
  },
  "kernelspec": {
   "display_name": "Python 3.8.5 64-bit ('base': conda)",
   "language": "python",
   "name": "python3"
  },
  "language_info": {
   "codemirror_mode": {
    "name": "ipython",
    "version": 3
   },
   "file_extension": ".py",
   "mimetype": "text/x-python",
   "name": "python",
   "nbconvert_exporter": "python",
   "pygments_lexer": "ipython3",
   "version": "3.8.5"
  },
  "orig_nbformat": 4
 },
 "nbformat": 4,
 "nbformat_minor": 2
}
