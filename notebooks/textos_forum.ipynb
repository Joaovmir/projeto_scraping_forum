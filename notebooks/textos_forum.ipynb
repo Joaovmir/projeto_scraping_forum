{
 "cells": [
  {
   "cell_type": "code",
   "execution_count": 1,
   "metadata": {},
   "outputs": [],
   "source": [
    "from dotenv import dotenv_values\n",
    "from requests import get\n",
    "from requests.models import HTTPError\n",
    "from bs4 import BeautifulSoup\n",
    "\n",
    "import pandas as pd\n",
    "import random"
   ]
  },
  {
   "cell_type": "code",
   "execution_count": 2,
   "metadata": {},
   "outputs": [],
   "source": [
    "CONFIG = dotenv_values('../.env')"
   ]
  },
  {
   "cell_type": "code",
   "execution_count": 3,
   "metadata": {},
   "outputs": [],
   "source": [
    "def requisicao_api_alura():\n",
    "    try:\n",
    "        response = get('https://cursos.alura.com.br/api/categorias')\n",
    "        response.raise_for_status()\n",
    "    except HTTPError as http_err:\n",
    "        print(f'Um erro HTTP ocorreu: {http_err}')\n",
    "    except Exception as err:\n",
    "        print(f'Um erro ocorreu: {err}')\n",
    "    else:\n",
    "        return response.json()"
   ]
  },
  {
   "cell_type": "code",
   "execution_count": null,
   "metadata": {},
   "outputs": [],
   "source": [
    "dados = requisicao_api_alura()\n",
    "urls_categorias = {}\n",
    "url = 'https://cursos.alura.com.br/forum/categoria-'\n",
    "for item in dados:\n",
    "    urls_categorias[item['nome']] = f'{url}{item[\"slug\"]}/todos'\n",
    "urls_categorias"
   ]
  },
  {
   "cell_type": "code",
   "execution_count": 4,
   "metadata": {},
   "outputs": [],
   "source": [
    "def requisicao(url):\n",
    "    cookies = {'caelum.login.token':CONFIG['COOKIE']}\n",
    "    try:\n",
    "        response = get(url, cookies=cookies)\n",
    "        response.raise_for_status()\n",
    "    except HTTPError as http_err:\n",
    "        print(f'Um erro HTTP ocorreu: {http_err}')\n",
    "    except Exception as err:\n",
    "        print(f'Um erro ocorreu: {err}')\n",
    "    else:\n",
    "        soup = BeautifulSoup(response.text,'html.parser')\n",
    "        return soup"
   ]
  },
  {
   "cell_type": "code",
   "execution_count": null,
   "metadata": {},
   "outputs": [],
   "source": [
    "paginas_categorias = {}\n",
    "for chave, valor in urls_categorias.items():\n",
    "    soup = requisicao(valor)\n",
    "    ultima_pagina = int(soup.find('nav', {'class': 'busca-paginacao-links'}).get_text().split()[-1])\n",
    "    paginas_categorias[chave] = random.sample(range(1, ultima_pagina+1), 250)\n",
    "paginas_categorias"
   ]
  },
  {
   "cell_type": "code",
   "execution_count": null,
   "metadata": {},
   "outputs": [],
   "source": [
    "def dataframe_links_categoria(categoria):\n",
    "    titulos = []\n",
    "    links = []\n",
    "    for pagina in paginas_categorias[categoria]:\n",
    "        soup  = requisicao(f'{urls_categorias[categoria]}/{pagina}')\n",
    "        itens  = soup.find_all('a', {'class': 'forumList-item-subject-info-title-link'})\n",
    "        for item in itens:\n",
    "            titulos.append(item.text.strip().split('\\n')[0])\n",
    "            links.append(f'https://cursos.alura.com.br{item[\"href\"]}')\n",
    "\n",
    "    dados = pd.DataFrame({'titulo': titulos, 'links': links})\n",
    "    dados.to_csv(f'../dados/{categoria}.csv')"
   ]
  },
  {
   "cell_type": "code",
   "execution_count": null,
   "metadata": {},
   "outputs": [],
   "source": [
    "dataframe_links_categoria('Data Science')"
   ]
  },
  {
   "cell_type": "code",
   "execution_count": null,
   "metadata": {},
   "outputs": [],
   "source": [
    "dataframe_links_categoria('Programação')"
   ]
  },
  {
   "cell_type": "code",
   "execution_count": null,
   "metadata": {},
   "outputs": [],
   "source": [
    "dataframe_links_categoria('Inovação & Gestão')"
   ]
  },
  {
   "cell_type": "code",
   "execution_count": null,
   "metadata": {},
   "outputs": [],
   "source": [
    "dataframe_links_categoria('Front-end')"
   ]
  },
  {
   "cell_type": "code",
   "execution_count": null,
   "metadata": {},
   "outputs": [],
   "source": [
    "dataframe_links_categoria('DevOps')"
   ]
  },
  {
   "cell_type": "code",
   "execution_count": null,
   "metadata": {},
   "outputs": [],
   "source": [
    "dataframe_links_categoria('UX & Design')"
   ]
  },
  {
   "cell_type": "code",
   "execution_count": null,
   "metadata": {},
   "outputs": [],
   "source": [
    "dataframe_links_categoria('Mobile')"
   ]
  },
  {
   "cell_type": "code",
   "execution_count": null,
   "metadata": {},
   "outputs": [],
   "source": [
    "data_science = pd.read_csv('../dados/Data Science.csv')"
   ]
  },
  {
   "cell_type": "code",
   "execution_count": null,
   "metadata": {},
   "outputs": [],
   "source": [
    "textos = []\n",
    "i = 0\n",
    "for url in data_science['links']:\n",
    "    i += 1\n",
    "    print(i)\n",
    "    soup = requisicao(url)\n",
    "    textos.append(soup.find('div', {'class': 'topic-post-question-content'}).find('section', {'class': 'topic-post-content'}).text.strip())\n",
    "data_science['texto'] = textos\n",
    "data_science.to_csv('../dados/Data Science com textos.csv')"
   ]
  },
  {
   "cell_type": "code",
   "execution_count": null,
   "metadata": {},
   "outputs": [],
   "source": [
    "programacao = pd.read_csv('../dados/Programação.csv')"
   ]
  },
  {
   "cell_type": "code",
   "execution_count": null,
   "metadata": {},
   "outputs": [],
   "source": [
    "textos = []\n",
    "for url in programacao['links']:\n",
    "    soup = requisicao(url)\n",
    "    textos.append(soup.find('div', {'class': 'topic-post-question-content'}).find('section', {'class': 'topic-post-content'}).text.strip())\n",
    "programacao['texto'] = textos\n",
    "programacao.to_csv('../dados/Programação com textos.csv')"
   ]
  },
  {
   "cell_type": "code",
   "execution_count": null,
   "metadata": {},
   "outputs": [],
   "source": [
    "devops = pd.read_csv('../dados/DevOps.csv')"
   ]
  },
  {
   "cell_type": "code",
   "execution_count": null,
   "metadata": {},
   "outputs": [],
   "source": [
    "textos = []\n",
    "for url in devops['links']:\n",
    "    soup = requisicao(url)\n",
    "    textos.append(soup.find('div', {'class': 'topic-post-question-content'}).find('section', {'class': 'topic-post-content'}).text.strip())\n",
    "devops['texto'] = textos\n",
    "devops.to_csv('../dados/DevOps com textos.csv')"
   ]
  },
  {
   "cell_type": "code",
   "execution_count": null,
   "metadata": {},
   "outputs": [],
   "source": [
    "front_end = pd.read_csv('../dados/Front-end.csv')"
   ]
  },
  {
   "cell_type": "code",
   "execution_count": null,
   "metadata": {},
   "outputs": [],
   "source": [
    "textos = []\n",
    "for url in front_end['links']:\n",
    "    soup = requisicao(url)\n",
    "    textos.append(soup.find('div', {'class': 'topic-post-question-content'}).find('section', {'class': 'topic-post-content'}).text.strip())\n",
    "front_end['texto'] = textos\n",
    "front_end.to_csv('../dados/Front-end com textos.csv')"
   ]
  },
  {
   "cell_type": "code",
   "execution_count": null,
   "metadata": {},
   "outputs": [],
   "source": [
    "mobile = pd.read_csv('../dados/Mobile.csv')"
   ]
  },
  {
   "cell_type": "code",
   "execution_count": null,
   "metadata": {},
   "outputs": [],
   "source": [
    "textos = []\n",
    "for url in mobile['links']:\n",
    "    soup = requisicao(url)\n",
    "    textos.append(soup.find('div', {'class': 'topic-post-question-content'}).find('section', {'class': 'topic-post-content'}).text.strip())\n",
    "mobile['texto'] = textos\n",
    "mobile.to_csv('../dados/Mobile com textos.csv')"
   ]
  },
  {
   "cell_type": "code",
   "execution_count": null,
   "metadata": {},
   "outputs": [],
   "source": [
    "textos"
   ]
  },
  {
   "cell_type": "code",
   "execution_count": null,
   "metadata": {},
   "outputs": [],
   "source": [
    "mobile[mobile['links'] == 'https://cursos.alura.com.br/forum/topico-realizar-o-curso-atraves-da-ide-do-android-studio-18311']"
   ]
  },
  {
   "cell_type": "code",
   "execution_count": null,
   "metadata": {},
   "outputs": [],
   "source": [
    "mobile.drop(3720, axis = 0, inplace = True)"
   ]
  },
  {
   "cell_type": "code",
   "execution_count": null,
   "metadata": {},
   "outputs": [],
   "source": [
    "for url in mobile[3720:]['links']:\n",
    "    soup = requisicao(url)\n",
    "    textos.append(soup.find('div', {'class': 'topic-post-question-content'}).find('section', {'class': 'topic-post-content'}).text.strip())\n",
    "mobile['texto'] = textos\n",
    "mobile.to_csv('../dados/Mobile com textos.csv')"
   ]
  },
  {
   "cell_type": "code",
   "execution_count": null,
   "metadata": {},
   "outputs": [],
   "source": [
    "ux_design = pd.read_csv('../dados/UX & Design.csv')"
   ]
  },
  {
   "cell_type": "code",
   "execution_count": null,
   "metadata": {},
   "outputs": [],
   "source": [
    "textos = []\n",
    "for url in ux_design['links']:\n",
    "    soup = requisicao(url)\n",
    "    textos.append(soup.find('div', {'class': 'topic-post-question-content'}).find('section', {'class': 'topic-post-content'}).text.strip())\n",
    "ux_design['texto'] = textos\n",
    "ux_design.to_csv('../dados/UX & Design com textos.csv')"
   ]
  },
  {
   "cell_type": "code",
   "execution_count": null,
   "metadata": {},
   "outputs": [],
   "source": [
    "inovacao = pd.read_csv('../dados/Inovação & Gestão.csv')"
   ]
  },
  {
   "cell_type": "code",
   "execution_count": null,
   "metadata": {},
   "outputs": [],
   "source": [
    "textos = []\n",
    "for url in inovacao['links']:\n",
    "    soup = requisicao(url)\n",
    "    textos.append(soup.find('div', {'class': 'topic-post-question-content'}).find('section', {'class': 'topic-post-content'}).text.strip())\n",
    "inovacao['texto'] = textos\n",
    "inovacao.to_csv('../dados/Inovação e Gestão com textos.csv')"
   ]
  },
  {
   "cell_type": "markdown",
   "metadata": {},
   "source": [
    "Coletando a informação de tópicos Off-Topic sem resposta"
   ]
  },
  {
   "cell_type": "code",
   "execution_count": 11,
   "metadata": {},
   "outputs": [],
   "source": [
    "url = \"https://cursos.alura.com.br/forum/categoria-offtopic/sem-resposta\"\n",
    "soup = requisicao(url)\n",
    "ultima_pagina = int(soup.find('nav', {'class': 'busca-paginacao-links'}).get_text().split()[-1])\n",
    "titulos = []\n",
    "links = []\n",
    "for pagina in range(1, ultima_pagina+1):\n",
    "    soup  = requisicao(f'{url}/{pagina}')\n",
    "    itens  = soup.find_all('a', {'class': 'forumList-item-subject-info-title-link'})\n",
    "    for item in itens:\n",
    "        titulos.append(item.text.strip().split('\\n')[0])\n",
    "        links.append(f'https://cursos.alura.com.br{item[\"href\"]}')\n",
    "\n",
    "dados = pd.DataFrame({'titulo': titulos, 'links': links})\n",
    "dados.to_csv(f'../dados/Off-topic.csv')"
   ]
  },
  {
   "cell_type": "code",
   "execution_count": 12,
   "metadata": {},
   "outputs": [],
   "source": [
    "off_topic = pd.read_csv('../dados/Off-topic.csv')"
   ]
  },
  {
   "cell_type": "code",
   "execution_count": 14,
   "metadata": {},
   "outputs": [],
   "source": [
    "textos = []\n",
    "for url in off_topic['links']:\n",
    "    soup = requisicao(url)\n",
    "    textos.append(soup.find('div', {'class': 'topic-post-question-content'}).find('section', {'class': 'topic-post-content'}).text.strip())\n",
    "off_topic['texto'] = textos\n",
    "off_topic.to_csv('../dados/Off-topic com textos.csv', index = False)"
   ]
  }
 ],
 "metadata": {
  "interpreter": {
   "hash": "183bbf6827d058c2a2fb0f4acdc0420849dda2b4380af0e437e38c64d798d8b7"
  },
  "kernelspec": {
   "display_name": "Python 3.8.5 64-bit ('base': conda)",
   "language": "python",
   "name": "python3"
  },
  "language_info": {
   "codemirror_mode": {
    "name": "ipython",
    "version": 3
   },
   "file_extension": ".py",
   "mimetype": "text/x-python",
   "name": "python",
   "nbconvert_exporter": "python",
   "pygments_lexer": "ipython3",
   "version": "3.8.5"
  },
  "orig_nbformat": 4
 },
 "nbformat": 4,
 "nbformat_minor": 2
}
