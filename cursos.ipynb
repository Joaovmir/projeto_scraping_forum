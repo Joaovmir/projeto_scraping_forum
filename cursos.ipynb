{
 "cells": [
  {
   "cell_type": "code",
   "execution_count": 1,
   "metadata": {},
   "outputs": [],
   "source": [
    "from dotenv import dotenv_values\n",
    "from requests import get\n",
    "from requests.models import HTTPError\n",
    "from bs4 import BeautifulSoup\n",
    "\n",
    "import pandas as pd"
   ]
  },
  {
   "cell_type": "code",
   "execution_count": 2,
   "metadata": {},
   "outputs": [],
   "source": [
    "CONFIG = dotenv_values('.env')"
   ]
  },
  {
   "cell_type": "code",
   "execution_count": 17,
   "metadata": {},
   "outputs": [],
   "source": [
    "def requisicao_api_alura_cursos():\n",
    "    try:\n",
    "        response = get('https://cursos.alura.com.br/api/cursos')\n",
    "        response.raise_for_status()\n",
    "    except HTTPError as http_err:\n",
    "        print(f'Um erro HTTP ocorreu: {http_err}')\n",
    "    except Exception as err:\n",
    "        print(f'Um erro ocorreu: {err}')\n",
    "    else:\n",
    "        return response.json()"
   ]
  },
  {
   "cell_type": "code",
   "execution_count": 18,
   "metadata": {},
   "outputs": [],
   "source": [
    "def requisicao(url):\n",
    "    cookies = {'caelum.login.token':CONFIG['COOKIE']}\n",
    "    try:\n",
    "        response = get(url, cookies=cookies)\n",
    "        response.raise_for_status()\n",
    "    except HTTPError as http_err:\n",
    "        print(f'Um erro HTTP ocorreu: {http_err}')\n",
    "    except Exception as err:\n",
    "        print(f'Um erro ocorreu: {err}')\n",
    "    else:\n",
    "        soup = BeautifulSoup(response.text,'html.parser')\n",
    "        return soup"
   ]
  },
  {
   "cell_type": "code",
   "execution_count": 19,
   "metadata": {},
   "outputs": [],
   "source": [
    "def cursos():\n",
    "    dados = requisicao_api_alura_cursos()\n",
    "    url = 'https://cursos.alura.com.br/forum/curso-'\n",
    "    urls_cursos = []\n",
    "    nomes_cursos = []\n",
    "    for item in dados:\n",
    "        nomes_cursos.append(item['nome'])\n",
    "        urls_cursos.append(f'{url}{item[\"slug\"]}/sem-resposta')\n",
    "    df = pd.DataFrame({'Curso': nomes_cursos, 'Url': urls_cursos})\n",
    "    return df"
   ]
  },
  {
   "cell_type": "code",
   "execution_count": 20,
   "metadata": {},
   "outputs": [],
   "source": [
    "df = cursos()"
   ]
  },
  {
   "cell_type": "code",
   "execution_count": 21,
   "metadata": {},
   "outputs": [
    {
     "data": {
      "text/html": [
       "<div>\n",
       "<style scoped>\n",
       "    .dataframe tbody tr th:only-of-type {\n",
       "        vertical-align: middle;\n",
       "    }\n",
       "\n",
       "    .dataframe tbody tr th {\n",
       "        vertical-align: top;\n",
       "    }\n",
       "\n",
       "    .dataframe thead th {\n",
       "        text-align: right;\n",
       "    }\n",
       "</style>\n",
       "<table border=\"1\" class=\"dataframe\">\n",
       "  <thead>\n",
       "    <tr style=\"text-align: right;\">\n",
       "      <th></th>\n",
       "      <th>Curso</th>\n",
       "      <th>Url</th>\n",
       "    </tr>\n",
       "  </thead>\n",
       "  <tbody>\n",
       "    <tr>\n",
       "      <th>0</th>\n",
       "      <td>.Net e MongoDB parte 1: Primeiros passos para ...</td>\n",
       "      <td>https://cursos.alura.com.br/forum/curso-dotnet...</td>\n",
       "    </tr>\n",
       "    <tr>\n",
       "      <th>1</th>\n",
       "      <td>.Net e MongoDB parte 2: Integre uma webapp com...</td>\n",
       "      <td>https://cursos.alura.com.br/forum/curso-dotnet...</td>\n",
       "    </tr>\n",
       "    <tr>\n",
       "      <th>2</th>\n",
       "      <td>(I/O) com R: Formatos diferentes de entrada e ...</td>\n",
       "      <td>https://cursos.alura.com.br/forum/curso-io-em-...</td>\n",
       "    </tr>\n",
       "    <tr>\n",
       "      <th>3</th>\n",
       "      <td>A Empresa Ágil: Introduzindo o Business Agilit...</td>\n",
       "      <td>https://cursos.alura.com.br/forum/curso-empres...</td>\n",
       "    </tr>\n",
       "    <tr>\n",
       "      <th>4</th>\n",
       "      <td>ABAP parte 1: Introdução à linguagem criando r...</td>\n",
       "      <td>https://cursos.alura.com.br/forum/curso-abap/s...</td>\n",
       "    </tr>\n",
       "    <tr>\n",
       "      <th>...</th>\n",
       "      <td>...</td>\n",
       "      <td>...</td>\n",
       "    </tr>\n",
       "    <tr>\n",
       "      <th>1266</th>\n",
       "      <td>ZBrush: Definindo a guideline do personagem</td>\n",
       "      <td>https://cursos.alura.com.br/forum/curso-zbrush...</td>\n",
       "    </tr>\n",
       "    <tr>\n",
       "      <th>1267</th>\n",
       "      <td>ZBrush: Do box modeling para a escultura digital</td>\n",
       "      <td>https://cursos.alura.com.br/forum/curso-zbrush...</td>\n",
       "    </tr>\n",
       "    <tr>\n",
       "      <th>1268</th>\n",
       "      <td>ZBrush: Pensamento criativo para escultura</td>\n",
       "      <td>https://cursos.alura.com.br/forum/curso-zbrush...</td>\n",
       "    </tr>\n",
       "    <tr>\n",
       "      <th>1269</th>\n",
       "      <td>ZBrush: Técnicas de Polypaint</td>\n",
       "      <td>https://cursos.alura.com.br/forum/curso-zbrush...</td>\n",
       "    </tr>\n",
       "    <tr>\n",
       "      <th>1270</th>\n",
       "      <td>ZBrush: Trabalhando no blocking do modelo</td>\n",
       "      <td>https://cursos.alura.com.br/forum/curso-zbrush...</td>\n",
       "    </tr>\n",
       "  </tbody>\n",
       "</table>\n",
       "<p>1271 rows × 2 columns</p>\n",
       "</div>"
      ],
      "text/plain": [
       "                                                  Curso  \\\n",
       "0     .Net e MongoDB parte 1: Primeiros passos para ...   \n",
       "1     .Net e MongoDB parte 2: Integre uma webapp com...   \n",
       "2     (I/O) com R: Formatos diferentes de entrada e ...   \n",
       "3     A Empresa Ágil: Introduzindo o Business Agilit...   \n",
       "4     ABAP parte 1: Introdução à linguagem criando r...   \n",
       "...                                                 ...   \n",
       "1266        ZBrush: Definindo a guideline do personagem   \n",
       "1267   ZBrush: Do box modeling para a escultura digital   \n",
       "1268         ZBrush: Pensamento criativo para escultura   \n",
       "1269                      ZBrush: Técnicas de Polypaint   \n",
       "1270          ZBrush: Trabalhando no blocking do modelo   \n",
       "\n",
       "                                                    Url  \n",
       "0     https://cursos.alura.com.br/forum/curso-dotnet...  \n",
       "1     https://cursos.alura.com.br/forum/curso-dotnet...  \n",
       "2     https://cursos.alura.com.br/forum/curso-io-em-...  \n",
       "3     https://cursos.alura.com.br/forum/curso-empres...  \n",
       "4     https://cursos.alura.com.br/forum/curso-abap/s...  \n",
       "...                                                 ...  \n",
       "1266  https://cursos.alura.com.br/forum/curso-zbrush...  \n",
       "1267  https://cursos.alura.com.br/forum/curso-zbrush...  \n",
       "1268  https://cursos.alura.com.br/forum/curso-zbrush...  \n",
       "1269  https://cursos.alura.com.br/forum/curso-zbrush...  \n",
       "1270  https://cursos.alura.com.br/forum/curso-zbrush...  \n",
       "\n",
       "[1271 rows x 2 columns]"
      ]
     },
     "execution_count": 21,
     "metadata": {},
     "output_type": "execute_result"
    }
   ],
   "source": [
    "df"
   ]
  },
  {
   "cell_type": "code",
   "execution_count": null,
   "metadata": {},
   "outputs": [],
   "source": []
  }
 ],
 "metadata": {
  "kernelspec": {
   "display_name": "Python 3",
   "language": "python",
   "name": "python3"
  },
  "language_info": {
   "codemirror_mode": {
    "name": "ipython",
    "version": 3
   },
   "file_extension": ".py",
   "mimetype": "text/x-python",
   "name": "python",
   "nbconvert_exporter": "python",
   "pygments_lexer": "ipython3",
   "version": "3.8.5"
  }
 },
 "nbformat": 4,
 "nbformat_minor": 4
}
