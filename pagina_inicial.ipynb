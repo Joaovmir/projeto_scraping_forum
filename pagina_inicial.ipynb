{
 "cells": [
  {
   "cell_type": "code",
   "execution_count": 22,
   "metadata": {},
   "outputs": [],
   "source": [
    "from dotenv import dotenv_values\n",
    "from requests import get\n",
    "from requests.models import HTTPError\n",
    "from bs4 import BeautifulSoup\n",
    "\n",
    "import pandas as pd"
   ]
  },
  {
   "cell_type": "code",
   "execution_count": 23,
   "metadata": {},
   "outputs": [],
   "source": [
    "CONFIG = dotenv_values('.env')"
   ]
  },
  {
   "cell_type": "code",
   "execution_count": 38,
   "metadata": {},
   "outputs": [],
   "source": [
    "def requisicao(url):\n",
    "    cookies = {'caelum.login.token':CONFIG['COOKIE']}\n",
    "    try:\n",
    "        response = get(url, cookies=cookies)\n",
    "        response.raise_for_status()\n",
    "    except HTTPError as http_err:\n",
    "        print(f'Um erro HTTP ocorreu: {http_err}')\n",
    "    except Exception as err:\n",
    "        print(f'Um erro ocorreu: {err}')\n",
    "    else:\n",
    "        soup = BeautifulSoup(response.text,'html.parser')\n",
    "        return soup"
   ]
  },
  {
   "cell_type": "code",
   "execution_count": 53,
   "metadata": {},
   "outputs": [],
   "source": [
    "def roda_scraping_pagina_inicial():\n",
    "    url = 'https://cursos.alura.com.br/forum/todos/1'\n",
    "    soup = requisicao(url)\n",
    "    nomes = soup.find_all('a', {'class': 'dashboard-category-name-text'})\n",
    "    quantidades = soup.find_all('span', {'class': 'category-stats-item-number dashboard-stats-noReply-number'})\n",
    "    \n",
    "    dados = {}\n",
    "    for indice in range(len(nomes)):\n",
    "        dados[f'{nomes[indice].text.strip()}'] = f'{quantidades[indice].text.strip()}'\n",
    "    qtd_topicos_off_topic = roda_scraping_off_topic()\n",
    "    dados['Off-Topic'] = qtd_topicos_off_topic\n",
    "    df = pd.DataFrame(dados.items(), columns = ['Categoria', 'Quantidade sem resposta'])\n",
    "    return df"
   ]
  },
  {
   "cell_type": "code",
   "execution_count": 34,
   "metadata": {},
   "outputs": [],
   "source": [
    "def roda_scraping_off_topic():\n",
    "    url = 'https://cursos.alura.com.br/forum/categoria-offtopic/sem-resposta/'\n",
    "    soup = requisicao(url)\n",
    "    ultima_pagina = soup.find_all('a', {'class': 'paginationLink'})[-1].text\n",
    "    url = url + ultima_pagina\n",
    "    soup = requisicao(url)\n",
    "    qtd_topicos = (int(ultima_pagina)-1)*20 + len(soup.find_all('a', {'class': 'forumList-item-subject-info-title-link'}))\n",
    "    return qtd_topicos"
   ]
  },
  {
   "cell_type": "code",
   "execution_count": 54,
   "metadata": {},
   "outputs": [
    {
     "data": {
      "text/html": [
       "<div>\n",
       "<style scoped>\n",
       "    .dataframe tbody tr th:only-of-type {\n",
       "        vertical-align: middle;\n",
       "    }\n",
       "\n",
       "    .dataframe tbody tr th {\n",
       "        vertical-align: top;\n",
       "    }\n",
       "\n",
       "    .dataframe thead th {\n",
       "        text-align: right;\n",
       "    }\n",
       "</style>\n",
       "<table border=\"1\" class=\"dataframe\">\n",
       "  <thead>\n",
       "    <tr style=\"text-align: right;\">\n",
       "      <th></th>\n",
       "      <th>Categoria</th>\n",
       "      <th>Quantidade sem resposta</th>\n",
       "    </tr>\n",
       "  </thead>\n",
       "  <tbody>\n",
       "    <tr>\n",
       "      <th>0</th>\n",
       "      <td>Mobile</td>\n",
       "      <td>34</td>\n",
       "    </tr>\n",
       "    <tr>\n",
       "      <th>1</th>\n",
       "      <td>Programação</td>\n",
       "      <td>2046</td>\n",
       "    </tr>\n",
       "    <tr>\n",
       "      <th>2</th>\n",
       "      <td>Front-end</td>\n",
       "      <td>128</td>\n",
       "    </tr>\n",
       "    <tr>\n",
       "      <th>3</th>\n",
       "      <td>DevOps</td>\n",
       "      <td>747</td>\n",
       "    </tr>\n",
       "    <tr>\n",
       "      <th>4</th>\n",
       "      <td>UX &amp; Design</td>\n",
       "      <td>292</td>\n",
       "    </tr>\n",
       "    <tr>\n",
       "      <th>5</th>\n",
       "      <td>Data Science</td>\n",
       "      <td>444</td>\n",
       "    </tr>\n",
       "    <tr>\n",
       "      <th>6</th>\n",
       "      <td>Inovação &amp; Gestão</td>\n",
       "      <td>718</td>\n",
       "    </tr>\n",
       "    <tr>\n",
       "      <th>7</th>\n",
       "      <td>Off-Topic</td>\n",
       "      <td>731</td>\n",
       "    </tr>\n",
       "  </tbody>\n",
       "</table>\n",
       "</div>"
      ],
      "text/plain": [
       "           Categoria Quantidade sem resposta\n",
       "0             Mobile                      34\n",
       "1        Programação                    2046\n",
       "2          Front-end                     128\n",
       "3             DevOps                     747\n",
       "4        UX & Design                     292\n",
       "5       Data Science                     444\n",
       "6  Inovação & Gestão                     718\n",
       "7          Off-Topic                     731"
      ]
     },
     "execution_count": 54,
     "metadata": {},
     "output_type": "execute_result"
    }
   ],
   "source": [
    "roda_scraping_pagina_inicial()"
   ]
  }
 ],
 "metadata": {
  "kernelspec": {
   "display_name": "Python 3",
   "language": "python",
   "name": "python3"
  },
  "language_info": {
   "codemirror_mode": {
    "name": "ipython",
    "version": 3
   },
   "file_extension": ".py",
   "mimetype": "text/x-python",
   "name": "python",
   "nbconvert_exporter": "python",
   "pygments_lexer": "ipython3",
   "version": "3.8.5"
  }
 },
 "nbformat": 4,
 "nbformat_minor": 4
}
