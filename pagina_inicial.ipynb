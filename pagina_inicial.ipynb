{
 "cells": [
  {
   "cell_type": "code",
   "execution_count": 58,
   "metadata": {},
   "outputs": [],
   "source": [
    "from dotenv import dotenv_values\n",
    "from requests import get\n",
    "from requests.models import HTTPError\n",
    "from bs4 import BeautifulSoup\n",
    "\n",
    "import pandas as pd"
   ]
  },
  {
   "cell_type": "code",
   "execution_count": 3,
   "metadata": {},
   "outputs": [],
   "source": [
    "CONFIG = dotenv_values('.env')"
   ]
  },
  {
   "cell_type": "code",
   "execution_count": 12,
   "metadata": {},
   "outputs": [
    {
     "data": {
      "text/plain": [
       "OrderedDict([('COOKIE',\n",
       "              '4629d5ba7f21661f52b4f2fa3ae83034e5479a3467a5826fe1ca473d0f746590')])"
      ]
     },
     "execution_count": 12,
     "metadata": {},
     "output_type": "execute_result"
    }
   ],
   "source": [
    "CONFIG"
   ]
  },
  {
   "cell_type": "code",
   "execution_count": 59,
   "metadata": {},
   "outputs": [],
   "source": [
    "def roda_scraping(soup):\n",
    "    nomes = soup.find_all('a', {'class': 'dashboard-category-name-text'})\n",
    "    quantidades = soup.find_all('span', {'class': 'category-stats-item-number dashboard-stats-noReply-number'})\n",
    "\n",
    "    for indice in range(len(nomes)):\n",
    "        print(f'{nomes[indice].text.strip()}: {quantidades[indice].text.strip()}')"
   ]
  },
  {
   "cell_type": "code",
   "execution_count": 64,
   "metadata": {},
   "outputs": [],
   "source": [
    "def requisicao(url):\n",
    "    cookies = {'caelum.login.token':CONFIG['COOKIE']}\n",
    "    try:\n",
    "        response = get(url, cookies=cookies)\n",
    "        response.raise_for_status()\n",
    "    except HTTPError as http_err:\n",
    "        print(f'Um erro HTTP ocorreu: {http_err}')\n",
    "    except Exception as err:\n",
    "        print(f'Um erro ocorreu: {err}')\n",
    "    else:\n",
    "        print('Sucesso na requisição')\n",
    "        soup = BeautifulSoup(response.text,'html.parser')\n",
    "        return soup"
   ]
  },
  {
   "cell_type": "code",
   "execution_count": 67,
   "metadata": {
    "tags": []
   },
   "outputs": [
    {
     "name": "stdout",
     "output_type": "stream",
     "text": [
      "Sucesso na requisição\n",
      "Mobile: 39\n",
      "Programação: 2012\n",
      "Front-end: 84\n",
      "DevOps: 730\n",
      "UX & Design: 265\n",
      "Data Science: 442\n",
      "Inovação & Gestão: 700\n"
     ]
    }
   ],
   "source": [
    "url = 'https://cursos.alura.com.br/forum/todos/1'\n",
    "soup = requisicao(url)\n",
    "roda_scraping(soup)"
   ]
  },
  {
   "cell_type": "code",
   "execution_count": 73,
   "metadata": {},
   "outputs": [
    {
     "name": "stdout",
     "output_type": "stream",
     "text": [
      "Sucesso na requisição\n",
      "Sucesso na requisição\n"
     ]
    },
    {
     "data": {
      "text/plain": [
       "723"
      ]
     },
     "execution_count": 73,
     "metadata": {},
     "output_type": "execute_result"
    }
   ],
   "source": [
    "url = 'https://cursos.alura.com.br/forum/categoria-offtopic/sem-resposta/'\n",
    "soup = requisicao(url)\n",
    "ultima_pagina = soup.find_all('a', {'class': 'paginationLink'})[-1].text\n",
    "url = url + ultima_pagina\n",
    "soup = requisicao(url)\n",
    "qtd_topicos = (int(ultima_pagina)-1)*20 + len(soup.find_all('a', {'class': 'forumList-item-subject-info-title-link'}))\n",
    "qtd_topicos"
   ]
  }
 ],
 "metadata": {
  "kernelspec": {
   "display_name": "Python 3",
   "language": "python",
   "name": "python3"
  },
  "language_info": {
   "codemirror_mode": {
    "name": "ipython",
    "version": 3
   },
   "file_extension": ".py",
   "mimetype": "text/x-python",
   "name": "python",
   "nbconvert_exporter": "python",
   "pygments_lexer": "ipython3",
   "version": "3.8.5"
  }
 },
 "nbformat": 4,
 "nbformat_minor": 4
}
